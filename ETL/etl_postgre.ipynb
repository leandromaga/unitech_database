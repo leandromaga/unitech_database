{
 "cells": [
  {
   "cell_type": "code",
   "execution_count": 31,
   "metadata": {},
   "outputs": [],
   "source": [
    "import psycopg2\n",
    "from psycopg2 import sql"
   ]
  },
  {
   "cell_type": "code",
   "execution_count": 32,
   "metadata": {},
   "outputs": [],
   "source": [
    "arquivo = \"unitech.sql\""
   ]
  },
  {
   "cell_type": "code",
   "execution_count": 33,
   "metadata": {},
   "outputs": [],
   "source": [
    "def ler_arquivo_sql(nome_arquivo):\n",
    "    with open(nome_arquivo, 'r') as arquivo:\n",
    "        sql = arquivo.read()    \n",
    "    return sql   "
   ]
  },
  {
   "cell_type": "code",
   "execution_count": 34,
   "metadata": {},
   "outputs": [],
   "source": [
    "def criar_tabelas(cursor, arquivo_sql):\n",
    "    try:\n",
    "        query = ler_arquivo_sql(arquivo_sql)\n",
    "        cursor.execute(query)\n",
    "        print('Tabelas criadas com sucesso!')\n",
    "    except Exception as e:\n",
    "        print('Erro ao criar tabelas: ', e)"
   ]
  },
  {
   "cell_type": "code",
   "execution_count": 35,
   "metadata": {},
   "outputs": [],
   "source": [
    "def conecta_db(database, user, password, host):\n",
    "  con = psycopg2.connect(host=host, \n",
    "                         database=database,\n",
    "                         user=user, \n",
    "                         password=password)\n",
    "  return con"
   ]
  },
  {
   "cell_type": "code",
   "execution_count": 36,
   "metadata": {},
   "outputs": [],
   "source": [
    "# Função para deletar todas as tabelas do banco de dado\n",
    "def delete_all_tables(cur):\n",
    "    try:\n",
    "        \n",
    "        # Consultar todas as tabelas no esquema público\n",
    "        cur.execute(\"\"\"\n",
    "            SELECT table_name\n",
    "            FROM information_schema.tables\n",
    "            WHERE table_schema = 'public'\n",
    "        \"\"\")\n",
    "        \n",
    "        # Buscar todos os nomes de tabelas\n",
    "        tables = cur.fetchall()\n",
    "        \n",
    "        # Desabilitar verificação de chave estrangeira temporariamente\n",
    "        cur.execute(\"SET session_replication_role = 'replica';\")\n",
    "        \n",
    "        # Deletar cada tabela\n",
    "        for table in tables:\n",
    "            cur.execute(sql.SQL(\"DROP TABLE IF EXISTS {} CASCADE\").format(\n",
    "                sql.Identifier(table[0])\n",
    "            ))\n",
    "        \n",
    "        # Habilitar verificação de chave estrangeira novamente\n",
    "        cur.execute(\"SET session_replication_role = 'origin';\")\n",
    "        \n",
    "        # Confirmar as alterações no banco de dados\n",
    "        conn.commit()\n",
    "        \n",
    "        # Fechar a comunicação com o banco de dados\n",
    "        cur.close()\n",
    "        print(\"Todas as tabelas foram deletadas com sucesso!\")\n",
    "    \n",
    "    except Exception as e:\n",
    "        print(f\"Erro: {e}\")"
   ]
  },
  {
   "cell_type": "code",
   "execution_count": 38,
   "metadata": {},
   "outputs": [],
   "source": [
    "# Realizando conexão com o banco de dados\n",
    "\n",
    "db_config = {\n",
    "    'database': 'unitech',\n",
    "    'user': 'postgres',\n",
    "    'password': 'admin',\n",
    "    'host': 'localhost'\n",
    "}\n",
    "\n",
    "conn = conecta_db(**db_config)\n",
    "\n",
    "cur = conn.cursor()"
   ]
  },
  {
   "cell_type": "code",
   "execution_count": 39,
   "metadata": {},
   "outputs": [
    {
     "name": "stdout",
     "output_type": "stream",
     "text": [
      "Tabelas criadas com sucesso!\n"
     ]
    }
   ],
   "source": [
    "# Criando o bando de dados e as tabelas a partir do arquivo sql\n",
    "\n",
    "criar_tabelas(cur, arquivo)\n",
    "\n",
    "\n",
    "conn.commit()\n",
    "cur.close()"
   ]
  },
  {
   "cell_type": "code",
   "execution_count": null,
   "metadata": {},
   "outputs": [],
   "source": [
    "# Em caso de testes pode-se deletar todas as tabelas do banco de dados com os seguintes comandos:\n",
    "\n",
    "# conn.commit()\n",
    "# delete_all_tables(cur)"
   ]
  }
 ],
 "metadata": {
  "kernelspec": {
   "display_name": "Python 3",
   "language": "python",
   "name": "python3"
  },
  "language_info": {
   "codemirror_mode": {
    "name": "ipython",
    "version": 3
   },
   "file_extension": ".py",
   "mimetype": "text/x-python",
   "name": "python",
   "nbconvert_exporter": "python",
   "pygments_lexer": "ipython3",
   "version": "3.12.1"
  }
 },
 "nbformat": 4,
 "nbformat_minor": 2
}
